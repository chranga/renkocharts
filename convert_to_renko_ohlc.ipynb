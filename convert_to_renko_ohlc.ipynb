{
 "cells": [
  {
   "cell_type": "markdown",
   "id": "7c3fb631",
   "metadata": {},
   "source": [
    "## Convert regular OHLC to Renko Open Close and Plot Renko Chart\n",
    "<br />\n",
    "Full guide: https://renkotraders.com/trading-matters/how-to-plot-renko-charts-in-python/<br />\n",
    "Credits: https://machinelearningtrading.wordpress.com/2014/02/23/plotting-renko-bars-in-python/"
   ]
  },
  {
   "cell_type": "markdown",
   "id": "8fa11ddf",
   "metadata": {},
   "source": [
    "*** IMPORTS ***"
   ]
  },
  {
   "cell_type": "code",
   "execution_count": 202,
   "id": "5c472abb",
   "metadata": {},
   "outputs": [],
   "source": [
    "import datetime\n",
    "import dateutil\n",
    "import pandas_datareader.data as pdr\n",
    "from stocktrends import Renko"
   ]
  },
  {
   "cell_type": "markdown",
   "id": "dad89fda",
   "metadata": {},
   "source": [
    "*** Get data using get_data_yahoo ***"
   ]
  },
  {
   "cell_type": "code",
   "execution_count": 203,
   "id": "eab521eb",
   "metadata": {},
   "outputs": [],
   "source": [
    "year=5\n",
    "ticker=\"^GSPC\" #Input ticker here\n",
    "ohlc = pdr.get_data_yahoo(ticker,start=datetime.date.today()-dateutil.relativedelta.relativedelta(years=year),end=datetime.date.today())"
   ]
  },
  {
   "cell_type": "markdown",
   "id": "d76a6848",
   "metadata": {},
   "source": [
    "*** Create function df_to_renko() ***<br /> \n",
    "This will create the function where you can pass the ohlc fetched from Yahoo and n, where n = the renko box size"
   ]
  },
  {
   "cell_type": "code",
   "execution_count": 175,
   "id": "adbe362d",
   "metadata": {},
   "outputs": [],
   "source": [
    "# Function to convert ohlc data into renko bricks. Pass dataframe name and brick size\n",
    "def df_to_renko(data, n):\n",
    "    data.reset_index(inplace=True)\n",
    "    data.columns = [i.lower() for i in data.columns]\n",
    "    print(data.isnull().values.any())\n",
    "    df = Renko(data)\n",
    "    df.brick_size = n\n",
    "    renko_df = df.get_ohlc_data()\n",
    "    return renko_df"
   ]
  },
  {
   "cell_type": "markdown",
   "id": "9b9b3772",
   "metadata": {},
   "source": [
    "*** Pass Renko converted OHLC to new dataframe *** <br />\n",
    "Pass the function to a new dataframe which consists of the renko open high low close data"
   ]
  },
  {
   "cell_type": "code",
   "execution_count": 191,
   "id": "c015651d",
   "metadata": {},
   "outputs": [
    {
     "name": "stdout",
     "output_type": "stream",
     "text": [
      "False\n",
      "# of rows in DF: 182\n"
     ]
    }
   ],
   "source": [
    "r_bars = df_to_renko(ohlc, 50)\n",
    "print('# of rows in DF:',len(r_bars))"
   ]
  },
  {
   "cell_type": "markdown",
   "id": "3114b146",
   "metadata": {},
   "source": [
    "*** Save data to excel ***"
   ]
  },
  {
   "cell_type": "code",
   "execution_count": 192,
   "id": "dbdefa64",
   "metadata": {},
   "outputs": [],
   "source": [
    "r_bars.to_excel(\"output.xlsx\", index=False)"
   ]
  },
  {
   "cell_type": "markdown",
   "id": "57f3e8d6",
   "metadata": {},
   "source": [
    "*** Create new df with just open and close values *** <br />\n",
    "Takes just the open and close columns from the Renko open/high/low/close dataframe"
   ]
  },
  {
   "cell_type": "code",
   "execution_count": 193,
   "id": "49f81b36",
   "metadata": {},
   "outputs": [],
   "source": [
    "new_df = r_bars[['open','close']]"
   ]
  },
  {
   "cell_type": "markdown",
   "id": "622d490b",
   "metadata": {},
   "source": [
    "*** IMPORTS *** <br/>\n",
    "Import matplotlib and also use rcParams (if using Jupyter notebook to set size of chart)"
   ]
  },
  {
   "cell_type": "code",
   "execution_count": 194,
   "id": "9856ae5f",
   "metadata": {},
   "outputs": [],
   "source": [
    "import matplotlib.pyplot as plt\n",
    "import matplotlib\n",
    "plt.rcParams[\"figure.figsize\"] = (18,9)"
   ]
  },
  {
   "cell_type": "markdown",
   "id": "5e2a6755",
   "metadata": {},
   "source": [
    "*** Create the Renko chart using Matplotlib's Rectangle and patches ***"
   ]
  },
  {
   "cell_type": "code",
   "execution_count": 213,
   "id": "2e675f60",
   "metadata": {},
   "outputs": [
    {
     "data": {
      "image/png": "[encoded data removed]",
      "text/plain": [
       "<Figure size 1296x648 with 1 Axes>"
      ]
     },
     "metadata": {
      "needs_background": "light"
     },
     "output_type": "display_data"
    }
   ],
   "source": [
    "# create the figure\n",
    "fig = plt.figure(1)\n",
    "fig.clf()\n",
    "axes = fig.gca()\n",
    "\n",
    "# Add 10 extra spaces to the right\n",
    "num_bars = 100\n",
    "df = new_df.tail(num_bars)\n",
    "\n",
    "renkos = zip(df['open'],df['close'])\n",
    "# plot the bars, green for 'up', red for 'down'\n",
    "index = 1\n",
    "\n",
    "for open_price, close_price in renkos:\n",
    "    if (open_price < close_price):\n",
    "        renko = matplotlib.patches.Rectangle((index,open_price), 1, close_price-open_price, edgecolor='black', facecolor='green', alpha=0.5)\n",
    "        axes.add_patch(renko)\n",
    "    else:\n",
    "        renko = matplotlib.patches.Rectangle((index,open_price), 1, close_price-open_price, edgecolor='black', facecolor='red', alpha=0.5)\n",
    "        axes.add_patch(renko)\n",
    "    index = index + 1\n",
    "    \n",
    "#adjust the axes\n",
    "plt.xlim([0, num_bars+5])\n",
    "plt.ylim([min(min(df['open']),min(df['close'])), max(max(df['open']),max(df['close']))])\n",
    "plt.grid(True)\n",
    "plt.show()"
   ]
  },
  {
   "cell_type": "code",
   "execution_count": null,
   "id": "92584da1",
   "metadata": {},
   "outputs": [],
   "source": []
  }
 ],
 "metadata": {
  "kernelspec": {
   "display_name": "Python 3 (ipykernel)",
   "language": "python",
   "name": "python3"
  },
  "language_info": {
   "codemirror_mode": {
    "name": "ipython",
    "version": 3
   },
   "file_extension": ".py",
   "mimetype": "text/x-python",
   "name": "python",
   "nbconvert_exporter": "python",
   "pygments_lexer": "ipython3",
   "version": "3.9.6"
  }
 },
 "nbformat": 4,
 "nbformat_minor": 5
}
